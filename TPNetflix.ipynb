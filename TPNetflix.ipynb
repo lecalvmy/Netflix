{
 "cells": [
  {
   "cell_type": "markdown",
   "metadata": {
    "deletable": true,
    "editable": true
   },
   "source": [
    "<center><img src=\"Fig/Ensimag.png\" width=\"30%\" height=\"30%\"></center>\n",
    "<center><h3>Ensimag - 3A - IF</h3></center>\n",
    "<hr>\n",
    "<center><h1>Traitement des données hétérogènes</h1></center>\n",
    "<center><h2>TP: Système de recommandation de films</h2></center>\n",
    "<center><h3>Daniella Teukeng Mobou, Mylène Le Calvez</h3></center>\n",
    "<center><h6>Date de rendu : 01/03/2019</h6></center>"
   ]
  },
  {
   "cell_type": "markdown",
   "metadata": {
    "deletable": true,
    "editable": true
   },
   "source": [
    "<hr>\n",
    "# 0) Prétraitement"
   ]
  },
  {
   "cell_type": "markdown",
   "metadata": {
    "deletable": true,
    "editable": true
   },
   "source": [
    "## a) Scinder la base en deux parties : *Train* et *Test*"
   ]
  },
  {
   "cell_type": "markdown",
   "metadata": {
    "deletable": true,
    "editable": true
   },
   "source": [
    "explications partie 0.a\n"
   ]
  },
  {
   "cell_type": "code",
   "execution_count": 2,
   "metadata": {
    "collapsed": true,
    "deletable": true,
    "editable": true
   },
   "outputs": [],
   "source": [
    "# importing pandas module\n",
    "import pandas as pd"
   ]
  },
  {
   "cell_type": "code",
   "execution_count": 3,
   "metadata": {
    "collapsed": true,
    "deletable": true,
    "editable": true
   },
   "outputs": [],
   "source": [
    "#lecture des fichiers\n",
    "df = pd.read_csv(\"ratings.dat\",\n",
    "                 sep=\"::\", #separateur\n",
    "                 header=None, #pas d'en-tête\n",
    "                 engine='python')\n",
    " #df[colonne][ligne]\n",
    " #df[0] colonne user, df[1] colonne id film, df[2] colonne rate, df[3] colonne timestamp"
   ]
  },
  {
   "cell_type": "code",
   "execution_count": 4,
   "metadata": {
    "collapsed": true,
    "deletable": true,
    "editable": true
   },
   "outputs": [],
   "source": [
    "#creation des dataframes\n",
    "data_training = pd.DataFrame()\n",
    "data_test = pd.DataFrame()\n",
    "#creation du dictionnaire {utilisateurs:nb notes}\n",
    "user_nbRating = {}"
   ]
  },
  {
   "cell_type": "code",
   "execution_count": 5,
   "metadata": {
    "collapsed": false,
    "deletable": true,
    "editable": true,
    "scrolled": false
   },
   "outputs": [],
   "source": [
    "##Remplissage d'un dictionnaire {utilisateurs:nb notes}\n",
    "#le numéro de l'utilisateur\n",
    "currentUser = 1\n",
    "#le nombre de film qu'il a aimé\n",
    "ratingUser = 0\n",
    "line = 0\n",
    "while line < len(df) and df[0][line] == currentUser:\n",
    "    ratingUser += 1\n",
    "    line += 1\n",
    "    if line < len(df) and df[0][line] != currentUser:\n",
    "        user_nbRating[currentUser] = ratingUser\n",
    "        ratingUser = 0\n",
    "        currentUser = df[0][line]\n",
    "#Pour le dernier utilisateur\n",
    "user_nbRating[currentUser] = ratingUser"
   ]
  },
  {
   "cell_type": "code",
   "execution_count": 6,
   "metadata": {
    "collapsed": true,
    "deletable": true,
    "editable": true
   },
   "outputs": [],
   "source": [
    "##Remplissage des dataframe test et apprentissage\n",
    "ligne = 0\n",
    "for user_id in user_nbRating:\n",
    "    data_training_user = pd.DataFrame()\n",
    "    data_test_user = pd.DataFrame()\n",
    "    index = int(0.7 * user_nbRating[user_id])\n",
    "    data_training_user = df.loc[ligne:index+ligne-1,]\n",
    "    data_test_user = df.loc[index + ligne : ligne + user_nbRating[user_id],]\n",
    "    data_training = pd.concat([data_training, data_training_user])\n",
    "    data_test = pd.concat([data_test, data_test_user])\n",
    "    ligne = ligne + user_nbRating[user_id]"
   ]
  },
  {
   "cell_type": "code",
   "execution_count": 7,
   "metadata": {
    "collapsed": true,
    "deletable": true,
    "editable": true
   },
   "outputs": [],
   "source": [
    "##Creation de fichiers contenant les données test et apprentissage\n",
    "data_training.to_csv('data_training.dat', sep=':',header=None, index = False)\n",
    "data_test.to_csv('data_test.dat', sep=':',header=None, index = False)"
   ]
  },
  {
   "cell_type": "markdown",
   "metadata": {
    "deletable": true,
    "editable": true
   },
   "source": [
    "## b) Calculer les statistiques "
   ]
  },
  {
   "cell_type": "code",
   "execution_count": 8,
   "metadata": {
    "collapsed": true,
    "deletable": true,
    "editable": true
   },
   "outputs": [],
   "source": [
    "from scipy import stats\n",
    "import numpy as np\n",
    "import matplotlib.pyplot as plt"
   ]
  },
  {
   "cell_type": "markdown",
   "metadata": {
    "deletable": true,
    "editable": true
   },
   "source": [
    "### Distribution des notes en *train*"
   ]
  },
  {
   "cell_type": "markdown",
   "metadata": {
    "deletable": true,
    "editable": true
   },
   "source": [
    "explications"
   ]
  },
  {
   "cell_type": "code",
   "execution_count": 9,
   "metadata": {
    "collapsed": true,
    "deletable": true,
    "editable": true
   },
   "outputs": [],
   "source": [
    "df = pd.read_csv(\"data_training.dat\",\n",
    "                 sep=\":\", #separator whitespace\n",
    "                 header=None, #none header\n",
    "                 engine='python')"
   ]
  },
  {
   "cell_type": "code",
   "execution_count": 10,
   "metadata": {
    "collapsed": true,
    "deletable": true,
    "editable": true
   },
   "outputs": [],
   "source": [
    "Note = df[2]\n",
    "Note = np.sort(Note)"
   ]
  },
  {
   "cell_type": "code",
   "execution_count": 50,
   "metadata": {
    "collapsed": false,
    "deletable": true,
    "editable": true
   },
   "outputs": [
    {
     "name": "stdout",
     "output_type": "stream",
     "text": [
      "Taille de l'échantillon : 308870\n",
      "Note moyenne : 3.59898662868\n",
      "Note médiane : 4.0\n",
      "Note maximale : 5\n",
      "Note minimale : 1\n",
      "Quartile 25% : 3.0\n",
      "Quartile 75% : 4.0\n",
      "L'écart type : 1.11690344929\n",
      "L'écart type non biasé : 1.11690525734\n"
     ]
    }
   ],
   "source": [
    "print(\"Taille de l'échantillon :\", len(Note))\n",
    "print(\"Note moyenne :\", np.mean(Note))\n",
    "print(\"Note médiane :\", np.median(Note))\n",
    "print(\"Note maximale :\", max(Note))\n",
    "print(\"Note minimale :\", min(Note))\n",
    "print(\"Quartile 25% :\", stats.scoreatpercentile(Note, 25))\n",
    "print(\"Quartile 75% :\", stats.scoreatpercentile(Note, 75))\n",
    "print(\"L'écart type :\", np.std(Note))\n",
    "print(\"L'écart type non biasé :\", np.std(Note, ddof=1))"
   ]
  },
  {
   "cell_type": "code",
   "execution_count": 45,
   "metadata": {
    "collapsed": false,
    "deletable": true,
    "editable": true
   },
   "outputs": [
    {
     "data": {
      "image/png": "[encoded data removed]",
      "text/plain": [
       "<matplotlib.figure.Figure at 0x7f260a4027f0>"
      ]
     },
     "metadata": {},
     "output_type": "display_data"
    }
   ],
   "source": [
    "plt.hist(Note,normed=1)\n",
    "plt.axvline(Note.mean(), color='k', linestyle='dashed', linewidth=1)\n",
    "plt.show()"
   ]
  },
  {
   "cell_type": "code",
   "execution_count": 47,
   "metadata": {
    "collapsed": false,
    "deletable": true,
    "editable": true
   },
   "outputs": [
    {
     "data": {
      "image/png": "[encoded data removed]",
      "text/plain": [
       "<matplotlib.figure.Figure at 0x7f260a458d30>"
      ]
     },
     "metadata": {},
     "output_type": "display_data"
    }
   ],
   "source": [
    "fig = plt.figure()\n",
    "plt.xticks([0], ['Note'])\n",
    "plt.axhline(Note.mean(), color='k', linestyle='dashed', linewidth=1)\n",
    "plt.boxplot(Note)\n",
    "plt.savefig('BoxPlot.png', bbox_inches='tight')\n",
    "plt.show()"
   ]
  },
  {
   "cell_type": "markdown",
   "metadata": {
    "deletable": true,
    "editable": true
   },
   "source": [
    "### Distribution des notes en *test*"
   ]
  },
  {
   "cell_type": "code",
   "execution_count": 14,
   "metadata": {
    "collapsed": true
   },
   "outputs": [],
   "source": [
    "df = pd.read_csv(\"data_test.dat\",\n",
    "                 sep=\":\", #separator whitespace\n",
    "                 header=None, #none header\n",
    "                 engine='python')"
   ]
  },
  {
   "cell_type": "code",
   "execution_count": 15,
   "metadata": {
    "collapsed": true
   },
   "outputs": [],
   "source": [
    "Note = df[2]\n",
    "Note = np.sort(Note)"
   ]
  },
  {
   "cell_type": "code",
   "execution_count": 49,
   "metadata": {
    "collapsed": false
   },
   "outputs": [
    {
     "name": "stdout",
     "output_type": "stream",
     "text": [
      "Taille de l'échantillon : 308870\n",
      "Note moyenne : 3.59898662868\n",
      "Note médiane : 4.0\n",
      "Note maximale : 5\n",
      "Note minimale : 1\n",
      "Quartile 25% : 3.0\n",
      "Quartile 75% : 4.0\n",
      "L'écart type : 1.11690344929\n",
      "L'écart type non biasé : 1.11690525734\n"
     ]
    }
   ],
   "source": [
    "print(\"Taille de l'échantillon :\", len(Note))\n",
    "print(\"Note moyenne :\", np.mean(Note))\n",
    "print(\"Note médiane :\", np.median(Note))\n",
    "print(\"Note maximale :\", max(Note))\n",
    "print(\"Note minimale :\", min(Note))\n",
    "print(\"Quartile 25% :\", stats.scoreatpercentile(Note, 25))\n",
    "print(\"Quartile 75% :\", stats.scoreatpercentile(Note, 75))\n",
    "print(\"L'écart type :\", np.std(Note))\n",
    "print(\"L'écart type non biasé :\", np.std(Note, ddof=1))"
   ]
  },
  {
   "cell_type": "code",
   "execution_count": 41,
   "metadata": {
    "collapsed": false
   },
   "outputs": [
    {
     "data": {
      "image/png": "[encoded data removed]",
      "text/plain": [
       "<matplotlib.figure.Figure at 0x7f260a49b128>"
      ]
     },
     "metadata": {},
     "output_type": "display_data"
    }
   ],
   "source": [
    "plt.hist(Note,normed=1)\n",
    "plt.axvline(Note.mean(), color='k', linestyle='dashed', linewidth=1)\n",
    "plt.show()"
   ]
  },
  {
   "cell_type": "code",
   "execution_count": 46,
   "metadata": {
    "collapsed": false
   },
   "outputs": [
    {
     "data": {
      "image/png": "[encoded data removed]",
      "text/plain": [
       "<matplotlib.figure.Figure at 0x7f260a450b38>"
      ]
     },
     "metadata": {},
     "output_type": "display_data"
    }
   ],
   "source": [
    "fig = plt.figure()\n",
    "plt.xticks([0], ['Note'])\n",
    "plt.axhline(Note.mean(), color='k', linestyle='dashed', linewidth=1)\n",
    "plt.boxplot(Note)\n",
    "plt.savefig('BoxPlot.png', bbox_inches='tight')\n",
    "plt.show()"
   ]
  },
  {
   "cell_type": "markdown",
   "metadata": {
    "deletable": true,
    "editable": true
   },
   "source": [
    "### Distribution des interactions"
   ]
  },
  {
   "cell_type": "markdown",
   "metadata": {},
   "source": []
  },
  {
   "cell_type": "code",
   "execution_count": 25,
   "metadata": {
    "collapsed": false
   },
   "outputs": [],
   "source": [
    "Interactions = [user_nbRating[user_id] for user_id in user_nbRating]"
   ]
  },
  {
   "cell_type": "code",
   "execution_count": 26,
   "metadata": {
    "collapsed": true
   },
   "outputs": [],
   "source": [
    "Interactions = np.sort(Interactions)"
   ]
  },
  {
   "cell_type": "code",
   "execution_count": 51,
   "metadata": {
    "collapsed": false
   },
   "outputs": [
    {
     "name": "stdout",
     "output_type": "stream",
     "text": [
      "Taille de l'échantillon : 6040\n",
      "Nombre d'interaction moyen : 165.597516556\n",
      "Nombre d'interaction médian : 96.0\n",
      "Nombre d'interaction maximal : 2314\n",
      "Nombre d'interaction minimal : 20\n",
      "Quartile 25% : 44.0\n",
      "Quartile 75% : 208.0\n",
      "L'écart type : 192.731072529\n",
      "L'écart type non biasé : 192.74702907\n"
     ]
    }
   ],
   "source": [
    "print(\"Taille de l'échantillon :\", len(Interactions))\n",
    "print(\"Nombre d'interaction moyen :\", np.mean(Interactions))\n",
    "print(\"Nombre d'interaction médian :\", np.median(Interactions))\n",
    "print(\"Nombre d'interaction maximal :\", max(Interactions))\n",
    "print(\"Nombre d'interaction minimal :\", min(Interactions))\n",
    "print(\"Quartile 25% :\", stats.scoreatpercentile(Interactions, 25))\n",
    "print(\"Quartile 75% :\", stats.scoreatpercentile(Interactions, 75))\n",
    "print(\"L'écart type :\", np.std(Interactions))\n",
    "print(\"L'écart type non biasé :\", np.std(Interactions, ddof=1))"
   ]
  },
  {
   "cell_type": "code",
   "execution_count": 44,
   "metadata": {
    "collapsed": false
   },
   "outputs": [
    {
     "data": {
      "image/png": "[encoded data removed]",
      "text/plain": [
       "<matplotlib.figure.Figure at 0x7f260a40dcc0>"
      ]
     },
     "metadata": {},
     "output_type": "display_data"
    }
   ],
   "source": [
    "plt.hist(Interactions,normed=1)\n",
    "plt.axvline(Interactions.mean(), color='k', linestyle='dashed', linewidth=1)\n",
    "plt.show()"
   ]
  },
  {
   "cell_type": "code",
   "execution_count": 32,
   "metadata": {
    "collapsed": false
   },
   "outputs": [
    {
     "data": {
      "image/png": "[encoded data removed]",
      "text/plain": [
       "<matplotlib.figure.Figure at 0x7f2603fbdcc0>"
      ]
     },
     "metadata": {},
     "output_type": "display_data"
    }
   ],
   "source": [
    "fig = plt.figure()\n",
    "plt.xticks([0], ['Interactions'])\n",
    "plt.boxplot(Interactions)\n",
    "plt.savefig('BoxPlot.png', bbox_inches='tight')\n",
    "plt.show()"
   ]
  },
  {
   "cell_type": "markdown",
   "metadata": {
    "deletable": true,
    "editable": true
   },
   "source": [
    "<hr>\n",
    "# 1) Phase d'apprentissage"
   ]
  },
  {
   "cell_type": "markdown",
   "metadata": {
    "deletable": true,
    "editable": true
   },
   "source": [
    "## a) Présentation"
   ]
  },
  {
   "cell_type": "markdown",
   "metadata": {
    "deletable": true,
    "editable": true
   },
   "source": [
    "## b) Algorithme de descente de gradient "
   ]
  },
  {
   "cell_type": "code",
   "execution_count": null,
   "metadata": {
    "collapsed": true
   },
   "outputs": [],
   "source": []
  },
  {
   "cell_type": "markdown",
   "metadata": {
    "collapsed": true,
    "deletable": true,
    "editable": true
   },
   "source": [
    "<hr>\n",
    "# 2) Phase de test"
   ]
  },
  {
   "cell_type": "markdown",
   "metadata": {
    "deletable": true,
    "editable": true
   },
   "source": [
    "## a) Mean Square Error"
   ]
  },
  {
   "cell_type": "markdown",
   "metadata": {
    "deletable": true,
    "editable": true
   },
   "source": [
    "## b) Mean Absolute Error "
   ]
  },
  {
   "cell_type": "markdown",
   "metadata": {
    "deletable": true,
    "editable": true
   },
   "source": [
    "## c) Synthèse \n"
   ]
  },
  {
   "cell_type": "code",
   "execution_count": null,
   "metadata": {
    "collapsed": true,
    "deletable": true,
    "editable": true
   },
   "outputs": [],
   "source": []
  }
 ],
 "metadata": {
  "kernelspec": {
   "display_name": "Python 3",
   "language": "python",
   "name": "python3"
  },
  "language_info": {
   "codemirror_mode": {
    "name": "ipython",
    "version": 3
   },
   "file_extension": ".py",
   "mimetype": "text/x-python",
   "name": "python",
   "nbconvert_exporter": "python",
   "pygments_lexer": "ipython3",
   "version": "3.5.5"
  }
 },
 "nbformat": 4,
 "nbformat_minor": 2
}
