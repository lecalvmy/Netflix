{
 "cells": [
  {
   "cell_type": "markdown",
   "metadata": {},
   "source": [
    "<center><img src=\"Fig/Ensimag.png\" width=\"30%\" height=\"30%\"></center>\n",
    "<center><h3>Ensimag - 3A - IF</h3></center>\n",
    "<hr>\n",
    "<center><h1>Traitement des données hétérogènes</h1></center>\n",
    "<center><h2>TP: Système de recommandation de films</h2></center>\n",
    "<center><h3>Daniella Teukeng Mobou, Mylène Le Calvez</h3></center>\n",
    "<center><h6>Date de rendu : 01/03/2019</h6></center>"
   ]
  },
  {
   "cell_type": "markdown",
   "metadata": {},
   "source": [
    "<hr>"
   ]
  },
  {
   "cell_type": "markdown",
   "metadata": {},
   "source": [
    "Un **système de recommandation** est défini comme une fonction qui prédit l'*attrait d'un utilisateur pour un produit*. Au cours des dernières années, nous avons assisté à l'explosion des quantités de données numériques circulant sur Internet : vidéos, articles, images etc. Les internautes désirent un accès à l'information rapide et pertinent : les systèmes de recommandations sont alors apparus comme essentiels pour de nombreuses plateformes web. Par exemple, **Netflix**, un site de streaming vidéo comptant plus de 65 millions d'utilisateurs à travers le monde, se devait de proposer à chaque profil un contenu adapté et cohérent parmi une grande variété de films et de séries. Les performances de leur système de recommandation sont un **enjeu majeur** pour cette entreprise, d’où la création d’un concours, \"*The Netflix Prize*\" qui, chaque année, permet aux participants de gagner *1 million de dollars* afin d’améliorer leur système de recommandation.\n",
    "\n",
    "Des chercheurs de l'entreprise **IBM** ont gagné le concours en proposant une décomposition matricielle fondée sur l'algorithme de la descente de gradient, méthode très utilisée en apprentissage. \n",
    "\n",
    "Ce projet scolaire a pour but d'implémenter le modèle de la factorisation matricielle pour la recommandation de films. Nous utilisons les données disponibles sur le site MovieLens : https://grouplens.org/datasets/movielens/1m/. Plusieurs bases de données sont disponibles, celle que nous utilisons dans ce projet contient **1 million de notes d'utilisateurs (6000 utilisateurs pour environ 4000 films)**. Les utilisateurs notent les films entre 1 et 5. "
   ]
  },
  {
   "cell_type": "markdown",
   "metadata": {},
   "source": [
    "<hr>\n",
    "\n",
    "# Prétraitement"
   ]
  },
  {
   "cell_type": "markdown",
   "metadata": {},
   "source": [
    "Dans cette phase de prétraitement, nous allons séparer les données en deux groupes puis réaliser des analyses statistiques sur les données extraites de la base **MovieLens 1M**. L'efficacité des systèmes de recommandation est corrélée à leur capacité à manipuler des grandes quantités de données et à leur faculté à fournir les meilleurs recommandations pour un utilisateur donné. La matrice des scores est constituée en majorité (environ **98%**) par des  scores non-saisis, qui ne nous apporterons pas d'information pour le système de recommandation. Nous nous intéressons uniquement aux notes renseignées. "
   ]
  },
  {
   "cell_type": "markdown",
   "metadata": {},
   "source": [
    "## Scinder la base en deux parties : *Train* et *Test*"
   ]
  },
  {
   "cell_type": "markdown",
   "metadata": {},
   "source": [
    "Nous scindons la base fournie par **MovieLens 1M** en deux parties : \n",
    "\n",
    "- **Train** (*données d'apprentissage*): Via un ensemble fini d'utilisateurs et de produits, nous allons pouvoir inférer le score d'apétence de la manière la plus générale possible : on part des données pour extraire des règles générales. Cette partie nous permettra de décomposer la matrice de *Notes* en un produit de matrices *Utilisateurs* et *Films*.\n",
    "\n",
    "- **Test** (*données de test*): Nous allons ensuite tester la fonction apprise sur de nouvelles données, le but étant d'avoir le moins d'erreur possible. \n",
    "\n",
    "Par défaut, pour chaque utilisateur nous prenons **70%** des notes qu'il a attribué pour la partie **appprentissage** et **30%** des notes qu'il a attribué pour la partie **test**. \n"
   ]
  },
  {
   "cell_type": "code",
   "execution_count": 28,
   "metadata": {},
   "outputs": [],
   "source": [
    "# Importation du module pandas\n",
    "import pandas as pd"
   ]
  },
  {
   "cell_type": "code",
   "execution_count": 29,
   "metadata": {},
   "outputs": [],
   "source": [
    "# Lecture des fichiers\n",
    "df = pd.read_csv(\"ratings.dat\",\n",
    "                 sep=\"::\", #separateur\n",
    "                 header=None, #pas d'en-tête\n",
    "                 engine='python')\n",
    "\n",
    "# Lecture du dataframe de la forme : \n",
    "#df[colonne][ligne]\n",
    "#df[0] colonne user, df[1] colonne id film, df[2] colonne rate, df[3] colonne timestamp"
   ]
  },
  {
   "cell_type": "code",
   "execution_count": 30,
   "metadata": {},
   "outputs": [],
   "source": [
    "# Creation des dataframes de train et test\n",
    "data_training = pd.DataFrame()\n",
    "data_test = pd.DataFrame()\n",
    "\n",
    "# Creation du dictionnaire {utilisateurs:nb notes}\n",
    "user_nbRating = {}"
   ]
  },
  {
   "cell_type": "code",
   "execution_count": 31,
   "metadata": {
    "scrolled": false
   },
   "outputs": [],
   "source": [
    "# Initialisation du numéro de l'utilisateur\n",
    "currentUser = 1\n",
    "\n",
    "# Initialisation du nombre de film qu'il a aimé\n",
    "ratingUser = 0\n",
    "\n",
    "# Remplissage du dictionnaire {utilisateurs:nb notes}\n",
    "line = 0\n",
    "while line < len(df) and df[0][line] == currentUser:\n",
    "    ratingUser += 1\n",
    "    line += 1\n",
    "    if line < len(df) and df[0][line] != currentUser:\n",
    "        user_nbRating[currentUser] = ratingUser\n",
    "        ratingUser = 0\n",
    "        currentUser = df[0][line]\n",
    "# Pour le dernier utilisateur\n",
    "user_nbRating[currentUser] = ratingUser"
   ]
  },
  {
   "cell_type": "code",
   "execution_count": 32,
   "metadata": {},
   "outputs": [],
   "source": [
    "# Remplissage des dataframe test et apprentissage\n",
    "ligne = 0\n",
    "for user_id in user_nbRating:\n",
    "    data_training_user = pd.DataFrame()\n",
    "    data_test_user = pd.DataFrame()\n",
    "    index = int(0.7 * user_nbRating[user_id])\n",
    "    data_training_user = df.loc[ligne:index+ligne-1,]\n",
    "    data_test_user = df.loc[index + ligne : ligne + user_nbRating[user_id],]\n",
    "    data_training = pd.concat([data_training, data_training_user])\n",
    "    data_test = pd.concat([data_test, data_test_user])\n",
    "    ligne = ligne + user_nbRating[user_id]"
   ]
  },
  {
   "cell_type": "markdown",
   "metadata": {},
   "source": [
    "*Remarque* : Pour changer la proportion de données dans la partie **apprentissage** et **test**, il suffit de modifier le **0.7** du code précédent par la proportion souhaitée en apprentissage. "
   ]
  },
  {
   "cell_type": "code",
   "execution_count": 33,
   "metadata": {},
   "outputs": [],
   "source": [
    "# Creation de fichiers contenant les données test et apprentissage\n",
    "data_training.to_csv('data_training.dat', sep=':',header=None, index = False)\n",
    "data_test.to_csv('data_test.dat', sep=':',header=None, index = False)"
   ]
  },
  {
   "cell_type": "markdown",
   "metadata": {},
   "source": [
    "## Analyses statistiques "
   ]
  },
  {
   "cell_type": "markdown",
   "metadata": {},
   "source": [
    "Dans cette partie, nous allons analyser les données fournies par la base de données **MovieLens 1M** : distribution des *notes* dans la partie **apprentissage**, distribution des *notes* dans la partie **test** et distribution des *interactions films/utilisateurs* (nombre de films notés par un utilisateur). Nous étudierons les valeurs moyennes, maximales, minimales, médianes, les quartiles à 25% et 75% ainsi que les écart-types. Nous représenterons ensuite les données sous forme d'***histogramme*** et de ***boxplot*** pour avoir une vue d'ensemble de la répartition des données."
   ]
  },
  {
   "cell_type": "code",
   "execution_count": 34,
   "metadata": {},
   "outputs": [],
   "source": [
    "# Importation des modules nécessaires pour l'analyse statistique\n",
    "from scipy import stats\n",
    "import numpy as np\n",
    "import matplotlib.pyplot as plt"
   ]
  },
  {
   "cell_type": "markdown",
   "metadata": {},
   "source": [
    "### Distribution des notes en *train*"
   ]
  },
  {
   "cell_type": "markdown",
   "metadata": {},
   "source": [
    "Cette partie contient l'analyse statistique des données d'apprentissage. "
   ]
  },
  {
   "cell_type": "code",
   "execution_count": 35,
   "metadata": {},
   "outputs": [],
   "source": [
    "# Lecture du fichier de donnees train\n",
    "df = pd.read_csv(\"data_training.dat\",\n",
    "                 sep=\":\", #separator whitespace\n",
    "                 header=None, #none header\n",
    "                 engine='python')"
   ]
  },
  {
   "cell_type": "code",
   "execution_count": 36,
   "metadata": {},
   "outputs": [],
   "source": [
    "# Recuperation de la colonne des notes\n",
    "Note = df[2]\n",
    "# Tri des notes\n",
    "Note = np.sort(Note)"
   ]
  },
  {
   "cell_type": "code",
   "execution_count": 37,
   "metadata": {},
   "outputs": [
    {
     "name": "stdout",
     "output_type": "stream",
     "text": [
      "Taille de l'échantillon : 697378\n",
      "Note moyenne : 3.5750568558228104\n",
      "Note médiane : 4.0\n",
      "Note maximale : 5\n",
      "Note minimale : 1\n",
      "Quartile 25% : 3.0\n",
      "Quartile 75% : 4.0\n",
      "L'écart type : 1.1167078711351108\n",
      "L'écart type non biasé : 1.116708671783448\n"
     ]
    },
    {
     "name": "stderr",
     "output_type": "stream",
     "text": [
      "C:\\Users\\Portable\\Anaconda3\\lib\\site-packages\\scipy\\stats\\stats.py:1713: FutureWarning: Using a non-tuple sequence for multidimensional indexing is deprecated; use `arr[tuple(seq)]` instead of `arr[seq]`. In the future this will be interpreted as an array index, `arr[np.array(seq)]`, which will result either in an error or a different result.\n",
      "  return np.add.reduce(sorted[indexer] * weights, axis=axis) / sumval\n"
     ]
    }
   ],
   "source": [
    "print(\"Taille de l'échantillon :\", len(Note))\n",
    "print(\"Note moyenne :\", np.mean(Note))\n",
    "print(\"Note médiane :\", np.median(Note))\n",
    "print(\"Note maximale :\", max(Note))\n",
    "print(\"Note minimale :\", min(Note))\n",
    "print(\"Quartile 25% :\", stats.scoreatpercentile(Note, 25))\n",
    "print(\"Quartile 75% :\", stats.scoreatpercentile(Note, 75))\n",
    "print(\"L'écart type :\", np.std(Note))\n",
    "print(\"L'écart type non biasé :\", np.std(Note, ddof=1))"
   ]
  },
  {
   "cell_type": "markdown",
   "metadata": {},
   "source": [
    "L'échantillon d'apprentissage contient 697378 notes d'utilisateurs. Cela correspond à la somme des parties entières inférieures de 70% des notes attribuées par chaque utilisateur. Les notes sont comprises entre 1 et 5. La note moyenne attribuée par les utilisateurs est environ 3.575, ce qui est relativement élevé. Seulement 25% des notes attribuées par les utilisateurs sont inférieures ou égales à 3. La note médiane est 4, ce qui signifie que 50% des notes attribuées par les utilisateurs sont inférieures ou égales à 4. Le troisième quartile vaut également 4, ce qui signifique que 75% des notes sont inférieures ou égales à 4. La plupart des utilisateurs attribuent la note de 3 ou 4 aux films qu'ils jugent. L'écart-type, qui mesure la dispersion des données, vaut environ 1.12, ce qui montre encore une fois que les notes attribuées par les utilisateurs sont toujours relativement proches de la moyenne à 3.575. "
   ]
  },
  {
   "cell_type": "code",
   "execution_count": 38,
   "metadata": {},
   "outputs": [
    {
     "data": {
      "image/png": "[encoded data removed]",
      "text/plain": [
       "<Figure size 432x288 with 1 Axes>"
      ]
     },
     "metadata": {
      "needs_background": "light"
     },
     "output_type": "display_data"
    }
   ],
   "source": [
    "# Histogramme de distribution des notes en apprentissage\n",
    "plt.hist(Note)\n",
    "plt.axvline(Note.mean(), color='k', linestyle='dashed', linewidth=1)\n",
    "plt.show()"
   ]
  },
  {
   "cell_type": "code",
   "execution_count": 39,
   "metadata": {},
   "outputs": [
    {
     "data": {
      "image/png": "[encoded data removed]",
      "text/plain": [
       "<Figure size 432x288 with 1 Axes>"
      ]
     },
     "metadata": {
      "needs_background": "light"
     },
     "output_type": "display_data"
    }
   ],
   "source": [
    "# Boxplot de distribution des notes en apprentissage\n",
    "\n",
    "fig = plt.figure()\n",
    "plt.xticks([0], ['Note'])\n",
    "plt.axhline(Note.mean(), color='k', linestyle='dashed', linewidth=1)\n",
    "plt.boxplot(Note)\n",
    "plt.savefig('BoxPlot.png', bbox_inches='tight')\n",
    "plt.show()"
   ]
  },
  {
   "cell_type": "markdown",
   "metadata": {},
   "source": [
    "Comme attendu, la distribution des notes est assez déséquilibrée. Les notes sont majoritairement bonnes (supérieures ou égales à 3), avec un pic autour de la moyenne. Ces notes ne représentent pas forcément l'opinion générale des utilisateurs, puisque les utilisateurs ne notent pas tous les films qu'ils voient. Les utilisateurs semblent globalement noter les films qu'ils ont aimé. "
   ]
  },
  {
   "cell_type": "markdown",
   "metadata": {},
   "source": [
    "### Distribution des notes en *test*"
   ]
  },
  {
   "cell_type": "markdown",
   "metadata": {},
   "source": [
    "Cette partie contient l'analyse statistique des données de test. "
   ]
  },
  {
   "cell_type": "code",
   "execution_count": 40,
   "metadata": {},
   "outputs": [],
   "source": [
    "# Lecture du fichier de donnees train\n",
    "df = pd.read_csv(\"data_test.dat\",\n",
    "                 sep=\":\", #separator whitespace\n",
    "                 header=None, #none header\n",
    "                 engine='python')"
   ]
  },
  {
   "cell_type": "code",
   "execution_count": 41,
   "metadata": {},
   "outputs": [],
   "source": [
    "# Recuperation de la colonne des notes\n",
    "Note = df[2]\n",
    "# Tri des notes\n",
    "Note = np.sort(Note)"
   ]
  },
  {
   "cell_type": "code",
   "execution_count": 42,
   "metadata": {},
   "outputs": [
    {
     "name": "stdout",
     "output_type": "stream",
     "text": [
      "Taille de l'échantillon : 308870\n",
      "Note moyenne : 3.598986628678732\n",
      "Note médiane : 4.0\n",
      "Note maximale : 5\n",
      "Note minimale : 1\n",
      "Quartile 25% : 3.0\n",
      "Quartile 75% : 4.0\n",
      "L'écart type : 1.1169034492894754\n",
      "L'écart type non biasé : 1.1169052573416678\n"
     ]
    }
   ],
   "source": [
    "print(\"Taille de l'échantillon :\", len(Note))\n",
    "print(\"Note moyenne :\", np.mean(Note))\n",
    "print(\"Note médiane :\", np.median(Note))\n",
    "print(\"Note maximale :\", max(Note))\n",
    "print(\"Note minimale :\", min(Note))\n",
    "print(\"Quartile 25% :\", stats.scoreatpercentile(Note, 25))\n",
    "print(\"Quartile 75% :\", stats.scoreatpercentile(Note, 75))\n",
    "print(\"L'écart type :\", np.std(Note))\n",
    "print(\"L'écart type non biasé :\", np.std(Note, ddof=1))"
   ]
  },
  {
   "cell_type": "markdown",
   "metadata": {},
   "source": [
    "L'échantillon de test contient 308870 notes d'utilisateurs. Les notes sont comprises entre 1 et 5. La note moyenne attribuée par les utilisateurs est environ 3.599, ce qui est relativement élevé et très légèrement supérieur à la moyenne des notes en apprentissage. Seulement 25% des notes attribuées par les utilisateurs sont inférieures ou égales à 3. La note médiane est 4, ce qui signifie que 50% des notes attribuées par les utilisateurs sont inférieures ou égales à 4. Le troisième quartile vaut également 4, ce qui signifique que 75% des notes sont inférieures ou égales à 4. La plupart des utilisateurs attribuent la note de 3 ou 4 aux films qu'ils jugent. L'écart-type, qui mesure la dispersion des données, vaut environ 1.12, tout comme dans l'ensemble d'apprentissage, ce qui montre encore une fois que les notes attribuées par les utilisateurs sont toujours relativement proches de la moyenne. Les valeurs des notes de la partie test sont distribuées de la même manière que dans la partie apprentissage. "
   ]
  },
  {
   "cell_type": "code",
   "execution_count": 43,
   "metadata": {},
   "outputs": [
    {
     "data": {
      "image/png": "[encoded data removed]",
      "text/plain": [
       "<Figure size 432x288 with 1 Axes>"
      ]
     },
     "metadata": {
      "needs_background": "light"
     },
     "output_type": "display_data"
    }
   ],
   "source": [
    "# Histogramme de distribution des notes en test\n",
    "\n",
    "plt.hist(Note)\n",
    "plt.axvline(Note.mean(), color='k', linestyle='dashed', linewidth=1)\n",
    "plt.show()"
   ]
  },
  {
   "cell_type": "code",
   "execution_count": 44,
   "metadata": {},
   "outputs": [
    {
     "data": {
      "image/png": "[encoded data removed]",
      "text/plain": [
       "<Figure size 432x288 with 1 Axes>"
      ]
     },
     "metadata": {
      "needs_background": "light"
     },
     "output_type": "display_data"
    }
   ],
   "source": [
    "# Boxplot de distribution des notes en test\n",
    "\n",
    "fig = plt.figure()\n",
    "plt.xticks([0], ['Note'])\n",
    "plt.axhline(Note.mean(), color='k', linestyle='dashed', linewidth=1)\n",
    "plt.boxplot(Note)\n",
    "plt.savefig('BoxPlot.png', bbox_inches='tight')\n",
    "plt.show()"
   ]
  },
  {
   "cell_type": "markdown",
   "metadata": {},
   "source": [
    "Nous pouvons tirer les mêmes conclusions que dans la partie apprentissage : la distribution des notes est assez déséquilibrée. Les notes sont majoritairement bonnes (supérieures ou égales à 3), avec un pic autour de la moyenne. "
   ]
  },
  {
   "cell_type": "markdown",
   "metadata": {},
   "source": [
    "### Distribution des interactions"
   ]
  },
  {
   "cell_type": "markdown",
   "metadata": {},
   "source": [
    "Cette partie contient l'analyse statistique des interactions utilisateurs/films : nombre de films notés par utilisateur. "
   ]
  },
  {
   "cell_type": "code",
   "execution_count": 45,
   "metadata": {},
   "outputs": [],
   "source": [
    "# Recuperation des données grace au dictionnaire {utilisateurs:nb notes}\n",
    "Interactions = [user_nbRating[user_id] for user_id in user_nbRating]"
   ]
  },
  {
   "cell_type": "code",
   "execution_count": 46,
   "metadata": {},
   "outputs": [],
   "source": [
    "# Tri des données\n",
    "Interactions = np.sort(Interactions)"
   ]
  },
  {
   "cell_type": "code",
   "execution_count": 47,
   "metadata": {},
   "outputs": [
    {
     "name": "stdout",
     "output_type": "stream",
     "text": [
      "Taille de l'échantillon : 6040\n",
      "Nombre d'interaction moyen : 165.5975165562914\n",
      "Nombre d'interaction médian : 96.0\n",
      "Nombre d'interaction maximal : 2314\n",
      "Nombre d'interaction minimal : 20\n",
      "Quartile 25% : 44.0\n",
      "Quartile 75% : 208.0\n",
      "L'écart type : 192.73107252940773\n",
      "L'écart type non biasé : 192.74702906977777\n"
     ]
    }
   ],
   "source": [
    "print(\"Taille de l'échantillon :\", len(Interactions))\n",
    "print(\"Nombre d'interaction moyen :\", np.mean(Interactions))\n",
    "print(\"Nombre d'interaction médian :\", np.median(Interactions))\n",
    "print(\"Nombre d'interaction maximal :\", max(Interactions))\n",
    "print(\"Nombre d'interaction minimal :\", min(Interactions))\n",
    "print(\"Quartile 25% :\", stats.scoreatpercentile(Interactions, 25))\n",
    "print(\"Quartile 75% :\", stats.scoreatpercentile(Interactions, 75))\n",
    "print(\"L'écart type :\", np.std(Interactions))\n",
    "print(\"L'écart type non biasé :\", np.std(Interactions, ddof=1))"
   ]
  },
  {
   "cell_type": "markdown",
   "metadata": {},
   "source": [
    "Dans la base de données étudiée, 6040 utilisateurs ont noté des films. Au minimum, les utilisateurs ont noté 20 films et au maximum ils ont noté 2314 films. Un utilisateur moyen note environ 165 films. 25% des utilisateurs ont noté au plus 44 films. 50% des utilisateurs ont noté au plus 96 films. 75% des utilisateurs ont noté au plus 208 films. On en déduit que les utilisateurs notant une grande quantité de films sont assez rare. Il faudrait avoir le nombre de films vus par chaque utilisateurs pour faire des conclusions plus certaines. L'écart-type, qui mesure la dispersion des données, vaut environ 192.7, ce qui est assez faible par rapport aux valeurs extrêmes : les données semblent bien regroupées autour de la moyenne. "
   ]
  },
  {
   "cell_type": "code",
   "execution_count": 48,
   "metadata": {},
   "outputs": [
    {
     "data": {
      "image/png": "[encoded data removed]",
      "text/plain": [
       "<Figure size 432x288 with 1 Axes>"
      ]
     },
     "metadata": {
      "needs_background": "light"
     },
     "output_type": "display_data"
    }
   ],
   "source": [
    "# Histogramme de distribution des interactions\n",
    "\n",
    "plt.hist(Interactions)\n",
    "plt.axvline(Interactions.mean(), color='k', linestyle='dashed', linewidth=1)\n",
    "plt.show()"
   ]
  },
  {
   "cell_type": "code",
   "execution_count": 49,
   "metadata": {},
   "outputs": [
    {
     "data": {
      "image/png": "[encoded data removed]",
      "text/plain": [
       "<Figure size 432x288 with 1 Axes>"
      ]
     },
     "metadata": {
      "needs_background": "light"
     },
     "output_type": "display_data"
    }
   ],
   "source": [
    "# Boxplot de distribution des interactions\n",
    "\n",
    "fig = plt.figure()\n",
    "plt.xticks([0], ['Interactions'])\n",
    "plt.boxplot(Interactions)\n",
    "plt.savefig('BoxPlot.png', bbox_inches='tight')\n",
    "plt.show()"
   ]
  },
  {
   "cell_type": "markdown",
   "metadata": {},
   "source": [
    "Les données sont réparties de manière hétérogène : la plupart sont regroupées autour de la moyenne, et quelques rares utilisateurs dispersés ont noté un très grand nombre de films. "
   ]
  },
  {
   "cell_type": "markdown",
   "metadata": {},
   "source": [
    "<hr>\n",
    "\n",
    "# Phase d'apprentissage"
   ]
  },
  {
   "cell_type": "markdown",
   "metadata": {},
   "source": [
    "## Présentation"
   ]
  },
  {
   "cell_type": "markdown",
   "metadata": {},
   "source": [
    "On note N le nombre d'utilisateurs et M le nombre de scores donnés par l'utilisateur. On note A la matrice des scores, extraite précédemment. \n",
    "Le but de la phase d'apprentissage est de trouver les matrices de décomposition U et V qui approximent la matrice des notes de la partie ***train*** au sens du moindre carré. \n",
    "Nous cherchons les matrices \n",
    "$$U \\in \\mathbb{R}^{Nxk}$$ et $$V \\in \\mathbb{R}^{Mxk}$$ \n",
    "en minimisant l'erreur quadratique régularisée\n",
    "$$\\mathcal{L}(A, U, V) = \\sum_{(u,i)\\in A | A_{ui}observé}[(A_{ui}-U_u V_i^T )^2 + \\lambda (||U_u||^2 + ||V_i||^2] $$\n",
    "grâce à l'algorithme de descente de gradient."
   ]
  },
  {
   "cell_type": "markdown",
   "metadata": {},
   "source": [
    "## Algorithme de descente de gradient "
   ]
  },
  {
   "cell_type": "code",
   "execution_count": 55,
   "metadata": {},
   "outputs": [],
   "source": [
    "import collections as col"
   ]
  },
  {
   "cell_type": "markdown",
   "metadata": {},
   "source": [
    "##### Création de la matrice A\n",
    "\n",
    "La matrice A contient les notes attribués aux films par les utilisateurs. "
   ]
  },
  {
   "cell_type": "code",
   "execution_count": 50,
   "metadata": {},
   "outputs": [],
   "source": [
    "# Lecture du fichier des données d'apprentissage\n",
    "df = pd.read_csv(\"data_training.dat\",\n",
    "                 sep=\":\", #separator whitespace\n",
    "                 header=None)\n",
    "\n",
    "nb_film = 4000\n",
    "nb_user = 6040\n",
    "A = np.zeros((nb_user, nb_film))\n",
    "\n",
    "for line in range(0,len(df)):\n",
    "    user_id = df[0][line] \n",
    "    film_id = df[1][line] \n",
    "    A[user_id - 1][film_id - 1] = df[2][line]"
   ]
  },
  {
   "cell_type": "markdown",
   "metadata": {},
   "source": [
    "##### Calcul de la vraisemblance"
   ]
  },
  {
   "cell_type": "code",
   "execution_count": 51,
   "metadata": {},
   "outputs": [],
   "source": [
    "#Fonction vraisemblance\n",
    "def vraisemblance(A, U, V, Lambda) :\n",
    "    value = 0\n",
    "    #On sélectionne les couples (ligne, colonne) de la matrice A qui ont une note\n",
    "    a = np.where(A != 0)\n",
    "    ligne = a[0]\n",
    "    colonne = a[1]\n",
    "    for k in range(len(ligne)):\n",
    "        u = ligne[k]\n",
    "        i = colonne[k]\n",
    "        Uu = U[u, :]\n",
    "        Vi = V[i, :]\n",
    "        scalar = np.vdot(Uu, Vi)\n",
    "        norme1 = np.vdot(Uu, Uu)\n",
    "        norme2 = np.vdot(Vi, Vi)\n",
    "        value += ((A[u][i] - scalar)**2 + Lambda*(norme1 + norme2))\n",
    "    return value"
   ]
  },
  {
   "cell_type": "markdown",
   "metadata": {},
   "source": [
    "##### Calcul du gradient "
   ]
  },
  {
   "cell_type": "code",
   "execution_count": 52,
   "metadata": {},
   "outputs": [],
   "source": [
    "#Gradient de la vraisemblance selon le vecteur Uu\n",
    "def gradient_U(Aui, Uu, Vi, Lambda):\n",
    "    return(-2 * (Aui - np.vdot(Uu, Vi))*Vi + 2 * Lambda * Uu)\n",
    "\n",
    "#Gradient de la vraisemblance selon le vecteur Vi\n",
    "def gradient_V(Aui, Uu, Vi, Lambda):\n",
    "    return(-2 * (Aui - np.vdot(Uu, Vi))*Uu + 2 * Lambda * Vi)"
   ]
  },
  {
   "cell_type": "markdown",
   "metadata": {},
   "source": [
    "##### Méthode de descente du gradient "
   ]
  },
  {
   "cell_type": "code",
   "execution_count": 53,
   "metadata": {},
   "outputs": [],
   "source": [
    "def descenteGradient(A, U0, V0, eta, Lambda, epsilon):\n",
    "    #Le nombre d'utilisateur\n",
    "    nb_user = U0.shape[0]\n",
    "    #Le nombre de film\n",
    "    nb_film = V0.shape[0]\n",
    "    #Le paramètre k\n",
    "    k = U0.shape[1]\n",
    "    #Initialisation des vecteurs pour la descente du gradient\n",
    "    Uprec = np.copy(U0)\n",
    "    Vprec = np.copy(V0)\n",
    "    #Vecteurs dans lesquels on stocke les nouvelles valeurs de U et V\n",
    "    U = np.zeros((nb_user, k), dtype=np.float64)\n",
    "    V = np.zeros((nb_film, k), dtype=np.float64)\n",
    "    #On sélectionne les couples (ligne, colonne) de la matrice A qui ont une note\n",
    "    a = np.where(A != 0)\n",
    "    ligne = a[0]\n",
    "    colonne = a[1]\n",
    "    ligne_distinct = col.Counter(ligne)\n",
    "    col_distinct = col.Counter(colonne)\n",
    "    #Calcul de la vraisemblance initiale\n",
    "    vraisemblance_prec = vraisemblance(A, U0, V0,Lambda)\n",
    "    k = 0\n",
    "    while True:\n",
    "        #On récupère les utilisateurs qui ont noté un film\n",
    "        for u in ligne_distinct:\n",
    "            indice_u = np.where(ligne == u)\n",
    "            couple_ui = colonne[indice_u]\n",
    "            vecteur_U = np.zeros(k)\n",
    "            #Les films que a noté l'utilisateur i\n",
    "            for i in couple_ui:\n",
    "                vecteur_U = np.add(vecteur_U, gradient_U(A[u][i], Uprec[u,:], Vprec[i,:], Lambda))\n",
    "            U[u, :] = np.add(Uprec[u,:], np.multiply(-eta, vecteur_U))\n",
    "        #On récupère les films qui ont été noté\n",
    "        for i in col_distinct:\n",
    "            indice_i = np.where(colonne == i)\n",
    "            couple_ui = ligne[indice_i]\n",
    "            vecteur_V = np.zeros(k)\n",
    "            #Les utilisateurs qui ont noté le film i\n",
    "            for u in couple_ui:\n",
    "                vecteur_V = np.add(vecteur_V, gradient_U(A[u][i], Uprec[u,:], Vprec[i,:], Lambda))\n",
    "            V[i, :] = np.add(Vprec[i,:], np.multiply(-eta, vecteur_V))\n",
    "        rec = vraisemblance(A, U, V,Lambda)\n",
    "        diff = abs(rec - vraisemblance_prec)\n",
    "        if diff > epsilon :\n",
    "            Uprec = U\n",
    "            Vprec = V\n",
    "            vraisemblance_prec = rec\n",
    "        else:\n",
    "            break\n",
    "        k = k + 1\n",
    "    return U, V\n"
   ]
  },
  {
   "cell_type": "markdown",
   "metadata": {},
   "source": [
    "##### Algorithme"
   ]
  },
  {
   "cell_type": "code",
   "execution_count": 56,
   "metadata": {},
   "outputs": [
    {
     "ename": "ValueError",
     "evalue": "could not broadcast input array from shape (0) into shape (1)",
     "output_type": "error",
     "traceback": [
      "\u001b[1;31m---------------------------------------------------------------------------\u001b[0m",
      "\u001b[1;31mValueError\u001b[0m                                Traceback (most recent call last)",
      "\u001b[1;32m<ipython-input-56-550a1c0dd50f>\u001b[0m in \u001b[0;36m<module>\u001b[1;34m\u001b[0m\n\u001b[0;32m      5\u001b[0m \u001b[0mU_init\u001b[0m \u001b[1;33m=\u001b[0m \u001b[0mnp\u001b[0m\u001b[1;33m.\u001b[0m\u001b[0mrandom\u001b[0m\u001b[1;33m.\u001b[0m\u001b[0mrand\u001b[0m\u001b[1;33m(\u001b[0m\u001b[0mnb_user\u001b[0m\u001b[1;33m,\u001b[0m \u001b[0mk\u001b[0m\u001b[1;33m)\u001b[0m\u001b[1;33m\u001b[0m\u001b[1;33m\u001b[0m\u001b[0m\n\u001b[0;32m      6\u001b[0m \u001b[0mV_init\u001b[0m \u001b[1;33m=\u001b[0m \u001b[0mnp\u001b[0m\u001b[1;33m.\u001b[0m\u001b[0mrandom\u001b[0m\u001b[1;33m.\u001b[0m\u001b[0mrand\u001b[0m\u001b[1;33m(\u001b[0m\u001b[0mnb_film\u001b[0m\u001b[1;33m,\u001b[0m \u001b[0mk\u001b[0m\u001b[1;33m)\u001b[0m\u001b[1;33m\u001b[0m\u001b[1;33m\u001b[0m\u001b[0m\n\u001b[1;32m----> 7\u001b[1;33m \u001b[0mresult\u001b[0m \u001b[1;33m=\u001b[0m \u001b[0mdescenteGradient\u001b[0m\u001b[1;33m(\u001b[0m\u001b[0mA\u001b[0m\u001b[1;33m,\u001b[0m \u001b[0mU_init\u001b[0m\u001b[1;33m,\u001b[0m \u001b[0mV_init\u001b[0m\u001b[1;33m,\u001b[0m \u001b[0meta\u001b[0m\u001b[1;33m,\u001b[0m \u001b[0mLambda\u001b[0m\u001b[1;33m,\u001b[0m \u001b[0mepsilon\u001b[0m\u001b[1;33m)\u001b[0m\u001b[1;33m\u001b[0m\u001b[1;33m\u001b[0m\u001b[0m\n\u001b[0m\u001b[0;32m      8\u001b[0m \u001b[0mprint\u001b[0m\u001b[1;33m(\u001b[0m\u001b[0mresult\u001b[0m\u001b[1;33m[\u001b[0m\u001b[1;36m0\u001b[0m\u001b[1;33m]\u001b[0m\u001b[1;33m)\u001b[0m\u001b[1;33m\u001b[0m\u001b[1;33m\u001b[0m\u001b[0m\n\u001b[0;32m      9\u001b[0m \u001b[0mprint\u001b[0m\u001b[1;33m(\u001b[0m\u001b[0mresult\u001b[0m\u001b[1;33m[\u001b[0m\u001b[1;36m1\u001b[0m\u001b[1;33m]\u001b[0m\u001b[1;33m)\u001b[0m\u001b[1;33m\u001b[0m\u001b[1;33m\u001b[0m\u001b[0m\n",
      "\u001b[1;32m<ipython-input-53-af42d3ee4387>\u001b[0m in \u001b[0;36mdescenteGradient\u001b[1;34m(A, U0, V0, eta, Lambda, epsilon)\u001b[0m\n\u001b[0;32m     30\u001b[0m             \u001b[1;32mfor\u001b[0m \u001b[0mi\u001b[0m \u001b[1;32min\u001b[0m \u001b[0mcouple_ui\u001b[0m\u001b[1;33m:\u001b[0m\u001b[1;33m\u001b[0m\u001b[1;33m\u001b[0m\u001b[0m\n\u001b[0;32m     31\u001b[0m                 \u001b[0mvecteur_U\u001b[0m \u001b[1;33m=\u001b[0m \u001b[0mnp\u001b[0m\u001b[1;33m.\u001b[0m\u001b[0madd\u001b[0m\u001b[1;33m(\u001b[0m\u001b[0mvecteur_U\u001b[0m\u001b[1;33m,\u001b[0m \u001b[0mgradient_U\u001b[0m\u001b[1;33m(\u001b[0m\u001b[0mA\u001b[0m\u001b[1;33m[\u001b[0m\u001b[0mu\u001b[0m\u001b[1;33m]\u001b[0m\u001b[1;33m[\u001b[0m\u001b[0mi\u001b[0m\u001b[1;33m]\u001b[0m\u001b[1;33m,\u001b[0m \u001b[0mUprec\u001b[0m\u001b[1;33m[\u001b[0m\u001b[0mu\u001b[0m\u001b[1;33m,\u001b[0m\u001b[1;33m:\u001b[0m\u001b[1;33m]\u001b[0m\u001b[1;33m,\u001b[0m \u001b[0mVprec\u001b[0m\u001b[1;33m[\u001b[0m\u001b[0mi\u001b[0m\u001b[1;33m,\u001b[0m\u001b[1;33m:\u001b[0m\u001b[1;33m]\u001b[0m\u001b[1;33m,\u001b[0m \u001b[0mLambda\u001b[0m\u001b[1;33m)\u001b[0m\u001b[1;33m)\u001b[0m\u001b[1;33m\u001b[0m\u001b[1;33m\u001b[0m\u001b[0m\n\u001b[1;32m---> 32\u001b[1;33m             \u001b[0mU\u001b[0m\u001b[1;33m[\u001b[0m\u001b[0mu\u001b[0m\u001b[1;33m,\u001b[0m \u001b[1;33m:\u001b[0m\u001b[1;33m]\u001b[0m \u001b[1;33m=\u001b[0m \u001b[0mnp\u001b[0m\u001b[1;33m.\u001b[0m\u001b[0madd\u001b[0m\u001b[1;33m(\u001b[0m\u001b[0mUprec\u001b[0m\u001b[1;33m[\u001b[0m\u001b[0mu\u001b[0m\u001b[1;33m,\u001b[0m\u001b[1;33m:\u001b[0m\u001b[1;33m]\u001b[0m\u001b[1;33m,\u001b[0m \u001b[0mnp\u001b[0m\u001b[1;33m.\u001b[0m\u001b[0mmultiply\u001b[0m\u001b[1;33m(\u001b[0m\u001b[1;33m-\u001b[0m\u001b[0meta\u001b[0m\u001b[1;33m,\u001b[0m \u001b[0mvecteur_U\u001b[0m\u001b[1;33m)\u001b[0m\u001b[1;33m)\u001b[0m\u001b[1;33m\u001b[0m\u001b[1;33m\u001b[0m\u001b[0m\n\u001b[0m\u001b[0;32m     33\u001b[0m         \u001b[1;31m#On récupère les films qui ont été noté\u001b[0m\u001b[1;33m\u001b[0m\u001b[1;33m\u001b[0m\u001b[1;33m\u001b[0m\u001b[0m\n\u001b[0;32m     34\u001b[0m         \u001b[1;32mfor\u001b[0m \u001b[0mi\u001b[0m \u001b[1;32min\u001b[0m \u001b[0mcol_distinct\u001b[0m\u001b[1;33m:\u001b[0m\u001b[1;33m\u001b[0m\u001b[1;33m\u001b[0m\u001b[0m\n",
      "\u001b[1;31mValueError\u001b[0m: could not broadcast input array from shape (0) into shape (1)"
     ]
    }
   ],
   "source": [
    "k = 1\n",
    "eta = 0.1\n",
    "Lambda = 0.1\n",
    "epsilon = 0.001\n",
    "U_init = np.random.rand(nb_user, k)\n",
    "V_init = np.random.rand(nb_film, k)\n",
    "result = descenteGradient(A, U_init, V_init, eta, Lambda, epsilon)\n",
    "print(result[0])\n",
    "print(result[1])"
   ]
  },
  {
   "cell_type": "markdown",
   "metadata": {
    "collapsed": true
   },
   "source": [
    "<hr>\n",
    "\n",
    "# Phase de test"
   ]
  },
  {
   "cell_type": "markdown",
   "metadata": {},
   "source": [
    "## Mean Squared Error"
   ]
  },
  {
   "cell_type": "markdown",
   "metadata": {},
   "source": [
    "L'erreur quadratique moyenne d'un estimateur, ou *Mean Sqared Error* (MSE), est une mesure caractérisant la « précision » de cet estimateur. Cette mesure sorrespond à la moyenne arithmétique des carrés des écarts entre les prévisions et les observations. Nous souhaitons la MSE la plus faible possible.\n",
    "\n",
    "$$MSE = \\frac{1}{N} \\sum_{u=1}^N \\frac{1}{M} \\sum_{i=1}^M (A_{ui} - (U_u^* V_i^{*T}))^2 $$"
   ]
  },
  {
   "cell_type": "markdown",
   "metadata": {},
   "source": [
    "## Mean Absolute Error "
   ]
  },
  {
   "cell_type": "markdown",
   "metadata": {},
   "source": [
    "L'erreur moyenne absolue d'un estimateur, ou *Mean Absolute Error* (MAE), est une mesure caractérisant la « précision » de cet estimateur. Cette mesure sorrespond à la moyenne arithmétique des écarts en valeur absolue entre les prévisions et les observations. Nous souhaitons la MSE la plus faible possible.\n",
    "\n",
    "$$MSE = \\frac{1}{N} \\sum_{u=1}^N \\frac{1}{M} \\sum_{i=1}^M |A_{ui} - (U_u^* V_i^{*T})| $$"
   ]
  },
  {
   "cell_type": "markdown",
   "metadata": {},
   "source": [
    "## Calculs"
   ]
  },
  {
   "cell_type": "code",
   "execution_count": null,
   "metadata": {},
   "outputs": [],
   "source": [
    "def prediction(U, V, Atest):\n",
    "    MAE = 0\n",
    "    MSE = 0\n",
    "    #On sélectionne les couples (user, film) de la matrice A qui ont une note\n",
    "    a = np.where(Atest != 0)\n",
    "    user = a[0]\n",
    "    film = a[1]\n",
    "    nb_user = U.shape[0]\n",
    "    for u in range(nb_user):\n",
    "        d = 0\n",
    "        indice_u = np.where(user == u)\n",
    "        couple_ui = film[indice_u]\n",
    "        MAE_u = 0\n",
    "        MSE_u = 0\n",
    "        for i in couple_ui:\n",
    "            d = d+1\n",
    "            MAE_u += abs(A[u][i] - np.vdot(U[u, :],V[i, :]))\n",
    "            MSE_u += (A[u][i] - np.vdot(U[u, :],V[i, :]))**2\n",
    "        MAE += MAE_u/d\n",
    "        MSE += MSE_u/d\n",
    "    return MSE, MAE"
   ]
  },
  {
   "cell_type": "markdown",
   "metadata": {},
   "source": [
    "## Synthèse \n"
   ]
  },
  {
   "cell_type": "code",
   "execution_count": null,
   "metadata": {},
   "outputs": [],
   "source": [
    "# Meta Algorithme"
   ]
  },
  {
   "cell_type": "markdown",
   "metadata": {
    "collapsed": true
   },
   "source": [
    "|k|1|5|10|20|30|50|100|150|200|500|1000|\n",
    "| ---------: | ---------: | ---------: | ---------: | ---------: | ---------: | ---------: | ---------: | ---------: | ---------: | ---------: | ---------: |\n",
    "|MSE |0 |0 |0 |0 |0 |0 |0 |0 |0 |0 |0 |\n",
    "|MAE |0 |0 |0 |0 |0 |0 |0 |0 |0 |0 |0 |"
   ]
  }
 ],
 "metadata": {
  "kernelspec": {
   "display_name": "Python 3",
   "language": "python",
   "name": "python3"
  },
  "language_info": {
   "codemirror_mode": {
    "name": "ipython",
    "version": 3
   },
   "file_extension": ".py",
   "mimetype": "text/x-python",
   "name": "python",
   "nbconvert_exporter": "python",
   "pygments_lexer": "ipython3",
   "version": "3.7.1"
  }
 },
 "nbformat": 4,
 "nbformat_minor": 2
}
